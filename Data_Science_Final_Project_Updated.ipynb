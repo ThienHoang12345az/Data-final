{
 "cells": [
  {
   "cell_type": "markdown",
   "id": "9e0bd981",
   "metadata": {},
   "source": [
    "# Data Science Final Project Notebook"
   ]
  },
  {
   "cell_type": "markdown",
   "id": "e1a88e60",
   "metadata": {},
   "source": [
    "This notebook contains the final project for the Data Science course. It includes Markdown cells and Python code cells that demonstrate basic skills required in data science."
   ]
  },
  {
   "cell_type": "markdown",
   "id": "d867e7e0",
   "metadata": {},
   "source": [
    "## Popular Data Science Languages\n",
    "- Python\n",
    "- R\n",
    "- SQL\n",
    "- Julia\n",
    "- Scala"
   ]
  },
  {
   "cell_type": "markdown",
   "id": "5de959ab",
   "metadata": {},
   "source": [
    "## Common Data Science Libraries\n",
    "- NumPy\n",
    "- Pandas\n",
    "- Matplotlib\n",
    "- Scikit-learn\n",
    "- TensorFlow\n",
    "- Keras"
   ]
  },
  {
   "cell_type": "markdown",
   "id": "d320e77e",
   "metadata": {},
   "source": [
    "## Data Science Tools\n",
    "\n",
    "| Tool            | Description                          |\n",
    "|-----------------|--------------------------------------|\n",
    "| Jupyter Notebook| Interactive coding and documentation |\n",
    "| RStudio         | IDE for R programming                |\n",
    "| Apache Spark    | Big data processing framework        |\n",
    "| TensorFlow      | Deep learning framework              |"
   ]
  },
  {
   "cell_type": "markdown",
   "id": "3f896aab",
   "metadata": {},
   "source": [
    "## Arithmetic Expression Examples\n",
    "Below are some examples of simple arithmetic operations like addition and multiplication."
   ]
  },
  {
   "cell_type": "code",
   "execution_count": null,
   "id": "3df7e9fe",
   "metadata": {},
   "outputs": [],
   "source": [
    "# This code multiplies and adds numbers\n",
    "(5 * 3) + 2"
   ]
  },
  {
   "cell_type": "code",
   "execution_count": null,
   "id": "229b4eb5",
   "metadata": {},
   "outputs": [],
   "source": [
    "# Convert 200 minutes to hours\n",
    "minutes = 200\n",
    "hours = minutes / 60\n",
    "hours"
   ]
  },
  {
   "cell_type": "markdown",
   "id": "16e2ffc0",
   "metadata": {},
   "source": [
    "## Objectives of this Course\n",
    "- Understand the basics of Data Science\n",
    "- Learn how to use Jupyter Notebooks\n",
    "- Get familiar with Markdown and Python code\n",
    "- Work with data science libraries\n",
    "- Perform simple data transformations"
   ]
  },
  {
   "cell_type": "markdown",
   "id": "ed164953",
   "metadata": {},
   "source": [
    "**Author:** doanhnhan4605"
   ]
  }
 ],
 "metadata": {},
 "nbformat": 4,
 "nbformat_minor": 5
}
